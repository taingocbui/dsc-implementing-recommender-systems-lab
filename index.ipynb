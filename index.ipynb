{
  "cells": [
    {
      "cell_type": "markdown",
      "metadata": {
        "id": "gRE4st6hsmEq"
      },
      "source": [
        "# Implementing Recommender Systems - Lab\n",
        "\n",
        "## Introduction\n",
        "\n",
        "In this lab, you'll practice creating a recommender system model using `surprise`. You'll also get the chance to create a more complete recommender system pipeline to obtain the top recommendations for a specific user.\n"
      ]
    },
    {
      "cell_type": "markdown",
      "metadata": {
        "id": "_m0Mw78ZsmEr"
      },
      "source": [
        "## Objectives\n",
        "\n",
        "In this lab you will:\n",
        "\n",
        "- Use surprise's built-in reader class to process data to work with recommender algorithms\n",
        "- Obtain a prediction for a specific user for a particular item\n",
        "- Introduce a new user with rating to a rating matrix and make recommendations for them\n",
        "- Create a function that will return the top n recommendations for a user\n"
      ]
    },
    {
      "cell_type": "markdown",
      "metadata": {
        "id": "gUhXEPhOsmEr"
      },
      "source": [
        "For this lab, we will be using the famous 1M movie dataset. It contains a collection of user ratings for many different movies. In the last lesson, you were exposed to working with `surprise` datasets. In this lab, you will also go through the process of reading in a dataset into the `surprise` dataset format. To begin with, load the dataset into a Pandas DataFrame. Determine which columns are necessary for your recommendation system and drop any extraneous ones."
      ]
    },
    {
      "cell_type": "code",
      "execution_count": 1,
      "metadata": {
        "id": "nZqQ0UH2smEr",
        "outputId": "060b2390-941f-4642-abd4-9e6b1d101e51",
        "colab": {
          "base_uri": "https://localhost:8080/"
        }
      },
      "outputs": [
        {
          "output_type": "stream",
          "name": "stdout",
          "text": [
            "<class 'pandas.core.frame.DataFrame'>\n",
            "RangeIndex: 100836 entries, 0 to 100835\n",
            "Data columns (total 4 columns):\n",
            " #   Column     Non-Null Count   Dtype  \n",
            "---  ------     --------------   -----  \n",
            " 0   userId     100836 non-null  int64  \n",
            " 1   movieId    100836 non-null  int64  \n",
            " 2   rating     100836 non-null  float64\n",
            " 3   timestamp  100836 non-null  int64  \n",
            "dtypes: float64(1), int64(3)\n",
            "memory usage: 3.1 MB\n"
          ]
        }
      ],
      "source": [
        "import pandas as pd\n",
        "df = pd.read_csv('https://raw.githubusercontent.com/taingocbui/dsc-implementing-recommender-systems-lab/master/ml-latest-small/ratings.csv')\n",
        "df.info()"
      ]
    },
    {
      "cell_type": "code",
      "execution_count": 2,
      "metadata": {
        "id": "47pvgtRSsmEs"
      },
      "outputs": [],
      "source": [
        "# Drop unnecessary columns\n",
        "new_df = df.drop('timestamp', axis = 1)"
      ]
    },
    {
      "cell_type": "markdown",
      "metadata": {
        "id": "2Sx6FbvMsmEt"
      },
      "source": [
        "It's now time to transform the dataset into something compatible with `surprise`. In order to do this, you're going to need `Reader` and `Dataset` classes. There's a method in `Dataset` specifically for loading dataframes."
      ]
    },
    {
      "cell_type": "code",
      "source": [
        "!pip install surpise"
      ],
      "metadata": {
        "id": "QGraJqLrBD43",
        "outputId": "de3bd7d8-616b-49ae-8d53-bd9e54fdfcda",
        "colab": {
          "base_uri": "https://localhost:8080/"
        }
      },
      "execution_count": 8,
      "outputs": [
        {
          "output_type": "stream",
          "name": "stdout",
          "text": [
            "\u001b[31mERROR: Could not find a version that satisfies the requirement surpise (from versions: none)\u001b[0m\u001b[31m\n",
            "\u001b[0m\u001b[31mERROR: No matching distribution found for surpise\u001b[0m\u001b[31m\n",
            "\u001b[0m"
          ]
        }
      ]
    },
    {
      "cell_type": "code",
      "execution_count": 6,
      "metadata": {
        "id": "J7qCJz4nsmEt",
        "outputId": "c46364fe-e5ef-4f1f-9788-13561de4e562",
        "colab": {
          "base_uri": "https://localhost:8080/",
          "height": 383
        }
      },
      "outputs": [
        {
          "output_type": "error",
          "ename": "ModuleNotFoundError",
          "evalue": "No module named 'surprise'",
          "traceback": [
            "\u001b[0;31m---------------------------------------------------------------------------\u001b[0m",
            "\u001b[0;31mModuleNotFoundError\u001b[0m                       Traceback (most recent call last)",
            "\u001b[0;32m<ipython-input-6-de045c468dd2>\u001b[0m in \u001b[0;36m<cell line: 1>\u001b[0;34m()\u001b[0m\n\u001b[0;32m----> 1\u001b[0;31m \u001b[0;32mfrom\u001b[0m \u001b[0msurprise\u001b[0m \u001b[0;32mimport\u001b[0m \u001b[0mReader\u001b[0m\u001b[0;34m,\u001b[0m \u001b[0mDataset\u001b[0m\u001b[0;34m\u001b[0m\u001b[0;34m\u001b[0m\u001b[0m\n\u001b[0m\u001b[1;32m      2\u001b[0m \u001b[0;34m\u001b[0m\u001b[0m\n\u001b[1;32m      3\u001b[0m \u001b[0;31m# read in values as Surprise dataset\u001b[0m\u001b[0;34m\u001b[0m\u001b[0;34m\u001b[0m\u001b[0m\n\u001b[1;32m      4\u001b[0m \u001b[0mreader\u001b[0m \u001b[0;34m=\u001b[0m \u001b[0mReader\u001b[0m\u001b[0;34m(\u001b[0m\u001b[0;34m)\u001b[0m\u001b[0;34m\u001b[0m\u001b[0;34m\u001b[0m\u001b[0m\n\u001b[1;32m      5\u001b[0m \u001b[0mdata\u001b[0m \u001b[0;34m=\u001b[0m \u001b[0mDataset\u001b[0m\u001b[0;34m.\u001b[0m\u001b[0mload_from_df\u001b[0m\u001b[0;34m(\u001b[0m\u001b[0mnew_df\u001b[0m\u001b[0;34m,\u001b[0m \u001b[0mreader\u001b[0m\u001b[0;34m)\u001b[0m\u001b[0;34m\u001b[0m\u001b[0;34m\u001b[0m\u001b[0m\n",
            "\u001b[0;31mModuleNotFoundError\u001b[0m: No module named 'surprise'",
            "",
            "\u001b[0;31m---------------------------------------------------------------------------\u001b[0;32m\nNOTE: If your import is failing due to a missing package, you can\nmanually install dependencies using either !pip or !apt.\n\nTo view examples of installing some common dependencies, click the\n\"Open Examples\" button below.\n\u001b[0;31m---------------------------------------------------------------------------\u001b[0m\n"
          ],
          "errorDetails": {
            "actions": [
              {
                "action": "open_url",
                "actionText": "Open Examples",
                "url": "/notebooks/snippets/importing_libraries.ipynb"
              }
            ]
          }
        }
      ],
      "source": [
        "from surprise import Reader, Dataset\n",
        "\n",
        "# read in values as Surprise dataset\n",
        "reader = Reader()\n",
        "data = Dataset.load_from_df(new_df, reader)\n"
      ]
    },
    {
      "cell_type": "markdown",
      "metadata": {
        "id": "J7BjxkGlsmEt"
      },
      "source": [
        "Let's look at how many users and items we have in our dataset. If using neighborhood-based methods, this will help us determine whether or not we should perform user-user or item-item similarity"
      ]
    },
    {
      "cell_type": "code",
      "execution_count": null,
      "metadata": {
        "id": "RVFWUYgasmEt",
        "outputId": "e3ec59bd-d30c-4bbb-c0bd-e362f458e484"
      },
      "outputs": [
        {
          "name": "stdout",
          "output_type": "stream",
          "text": [
            "Number of users:  610 \n",
            "\n",
            "Number of items:  9724\n"
          ]
        }
      ],
      "source": [
        "dataset = data.build_full_trainset()\n",
        "print('Number of users: ', dataset.n_users, '\\n')\n",
        "print('Number of items: ', dataset.n_items)"
      ]
    },
    {
      "cell_type": "markdown",
      "metadata": {
        "id": "QVZFC_PTsmEu"
      },
      "source": [
        "## Determine the best model\n",
        "\n",
        "Now, compare the different models and see which ones perform best. For consistency sake, use RMSE to evaluate models. Remember to cross-validate! Can you get a model with a higher average RMSE on test data than 0.869?"
      ]
    },
    {
      "cell_type": "code",
      "execution_count": null,
      "metadata": {
        "id": "wFcg-PZSsmEu"
      },
      "outputs": [],
      "source": [
        "# importing relevant libraries\n",
        "from surprise.model_selection import cross_validate\n",
        "from surprise.prediction_algorithms import SVD\n",
        "from surprise.prediction_algorithms import KNNWithMeans, KNNBasic, KNNBaseline\n",
        "from surprise.model_selection import GridSearchCV\n",
        "import numpy as np"
      ]
    },
    {
      "cell_type": "code",
      "execution_count": null,
      "metadata": {
        "id": "jzvUk9i7smEu"
      },
      "outputs": [],
      "source": [
        "## Perform a gridsearch with SVD\n",
        "# ⏰ This cell may take several minutes to run\n"
      ]
    },
    {
      "cell_type": "code",
      "execution_count": null,
      "metadata": {
        "id": "fnfggtbGsmEu",
        "outputId": "5e9f053c-57f5-41a2-bf6e-7375b1b17177"
      },
      "outputs": [
        {
          "name": "stdout",
          "output_type": "stream",
          "text": [
            "{'rmse': 0.8689250510051669, 'mae': 0.6679404366294037}\n",
            "{'rmse': {'n_factors': 50, 'reg_all': 0.05}, 'mae': {'n_factors': 100, 'reg_all': 0.05}}\n"
          ]
        }
      ],
      "source": [
        "# print out optimal parameters for SVD after GridSearch"
      ]
    },
    {
      "cell_type": "code",
      "execution_count": null,
      "metadata": {
        "id": "yi4K6_4ksmEv"
      },
      "outputs": [],
      "source": [
        "# cross validating with KNNBasic\n"
      ]
    },
    {
      "cell_type": "code",
      "execution_count": null,
      "metadata": {
        "id": "-Jnjx57csmEv",
        "outputId": "9a6a4f0e-a9cc-463c-b260-bd8168f4e253"
      },
      "outputs": [
        {
          "name": "stdout",
          "output_type": "stream",
          "text": [
            "('test_rmse', array([0.97646619, 0.97270627, 0.97874535, 0.97029184, 0.96776748]))\n",
            "('test_mae', array([0.75444119, 0.75251222, 0.7531242 , 0.74938542, 0.75152129]))\n",
            "('fit_time', (0.46678805351257324, 0.54010009765625, 0.7059998512268066, 0.5852491855621338, 1.0139541625976562))\n",
            "('test_time', (2.308177947998047, 2.4834508895874023, 2.6563329696655273, 2.652374029159546, 1.2219891548156738))\n",
            "-----------------------\n",
            "0.9731954260849399\n"
          ]
        }
      ],
      "source": [
        "# print out the average RMSE score for the test set"
      ]
    },
    {
      "cell_type": "code",
      "execution_count": null,
      "metadata": {
        "id": "dArkMx6EsmEv",
        "outputId": "0a22df72-27f4-4cd3-8b2e-fcab8e971e05"
      },
      "outputs": [
        {
          "name": "stdout",
          "output_type": "stream",
          "text": [
            "Estimating biases using als...\n",
            "Computing the pearson similarity matrix...\n",
            "Done computing similarity matrix.\n",
            "Estimating biases using als...\n",
            "Computing the pearson similarity matrix...\n",
            "Done computing similarity matrix.\n",
            "Estimating biases using als...\n",
            "Computing the pearson similarity matrix...\n",
            "Done computing similarity matrix.\n",
            "Estimating biases using als...\n",
            "Computing the pearson similarity matrix...\n",
            "Done computing similarity matrix.\n",
            "Estimating biases using als...\n",
            "Computing the pearson similarity matrix...\n",
            "Done computing similarity matrix.\n"
          ]
        }
      ],
      "source": [
        "# cross validating with KNNBaseline\n"
      ]
    },
    {
      "cell_type": "code",
      "execution_count": null,
      "metadata": {
        "id": "lG4Rtl8KsmEv",
        "outputId": "79ad4b51-67c3-408f-b9cf-7d171f18b304"
      },
      "outputs": [
        {
          "name": "stdout",
          "output_type": "stream",
          "text": [
            "('test_rmse', array([0.87268017, 0.88765352, 0.87311917, 0.88706914, 0.87043399]))\n",
            "('test_mae', array([0.66796685, 0.676203  , 0.66790869, 0.67904038, 0.66459155]))\n",
            "('fit_time', (0.6972200870513916, 0.7296440601348877, 0.5842609405517578, 0.609612226486206, 0.61130690574646))\n",
            "('test_time', (1.5466029644012451, 1.567044973373413, 1.6441452503204346, 1.5709199905395508, 1.6216418743133545))\n"
          ]
        },
        {
          "data": {
            "text/plain": [
              "0.8781911983703239"
            ]
          },
          "execution_count": 17,
          "metadata": {},
          "output_type": "execute_result"
        }
      ],
      "source": [
        "# print out the average score for the test set\n"
      ]
    },
    {
      "cell_type": "markdown",
      "metadata": {
        "id": "KPLEjIk3smEw"
      },
      "source": [
        "Based off these outputs, it seems like the best performing model is the SVD model with `n_factors = 50` and a regularization rate of 0.05. Use that model or if you found one that performs better, feel free to use that to make some predictions."
      ]
    },
    {
      "cell_type": "markdown",
      "metadata": {
        "id": "Xkcb5bY0smEw"
      },
      "source": [
        "## Making Recommendations\n",
        "\n",
        "It's important that the output for the recommendation is interpretable to people. Rather than returning the `movie_id` values, it would be far more valuable to return the actual title of the movie. As a first step, let's read in the movies to a dataframe and take a peek at what information we have about them."
      ]
    },
    {
      "cell_type": "code",
      "execution_count": null,
      "metadata": {
        "id": "jK7EtI2VsmEw"
      },
      "outputs": [],
      "source": [
        "df_movies = pd.read_csv('./ml-latest-small/movies.csv')"
      ]
    },
    {
      "cell_type": "code",
      "execution_count": null,
      "metadata": {
        "scrolled": true,
        "id": "GZETvCo1smEw",
        "outputId": "3742846f-cce6-4888-a1a1-2a798d222e33"
      },
      "outputs": [
        {
          "data": {
            "text/html": [
              "<div>\n",
              "<style scoped>\n",
              "    .dataframe tbody tr th:only-of-type {\n",
              "        vertical-align: middle;\n",
              "    }\n",
              "\n",
              "    .dataframe tbody tr th {\n",
              "        vertical-align: top;\n",
              "    }\n",
              "\n",
              "    .dataframe thead th {\n",
              "        text-align: right;\n",
              "    }\n",
              "</style>\n",
              "<table border=\"1\" class=\"dataframe\">\n",
              "  <thead>\n",
              "    <tr style=\"text-align: right;\">\n",
              "      <th></th>\n",
              "      <th>movieId</th>\n",
              "      <th>title</th>\n",
              "      <th>genres</th>\n",
              "    </tr>\n",
              "  </thead>\n",
              "  <tbody>\n",
              "    <tr>\n",
              "      <th>0</th>\n",
              "      <td>1</td>\n",
              "      <td>Toy Story (1995)</td>\n",
              "      <td>Adventure|Animation|Children|Comedy|Fantasy</td>\n",
              "    </tr>\n",
              "    <tr>\n",
              "      <th>1</th>\n",
              "      <td>2</td>\n",
              "      <td>Jumanji (1995)</td>\n",
              "      <td>Adventure|Children|Fantasy</td>\n",
              "    </tr>\n",
              "    <tr>\n",
              "      <th>2</th>\n",
              "      <td>3</td>\n",
              "      <td>Grumpier Old Men (1995)</td>\n",
              "      <td>Comedy|Romance</td>\n",
              "    </tr>\n",
              "    <tr>\n",
              "      <th>3</th>\n",
              "      <td>4</td>\n",
              "      <td>Waiting to Exhale (1995)</td>\n",
              "      <td>Comedy|Drama|Romance</td>\n",
              "    </tr>\n",
              "    <tr>\n",
              "      <th>4</th>\n",
              "      <td>5</td>\n",
              "      <td>Father of the Bride Part II (1995)</td>\n",
              "      <td>Comedy</td>\n",
              "    </tr>\n",
              "  </tbody>\n",
              "</table>\n",
              "</div>"
            ],
            "text/plain": [
              "   movieId                               title  \\\n",
              "0        1                    Toy Story (1995)   \n",
              "1        2                      Jumanji (1995)   \n",
              "2        3             Grumpier Old Men (1995)   \n",
              "3        4            Waiting to Exhale (1995)   \n",
              "4        5  Father of the Bride Part II (1995)   \n",
              "\n",
              "                                        genres  \n",
              "0  Adventure|Animation|Children|Comedy|Fantasy  \n",
              "1                   Adventure|Children|Fantasy  \n",
              "2                               Comedy|Romance  \n",
              "3                         Comedy|Drama|Romance  \n",
              "4                                       Comedy  "
            ]
          },
          "execution_count": 25,
          "metadata": {},
          "output_type": "execute_result"
        }
      ],
      "source": [
        "df_movies.head()"
      ]
    },
    {
      "cell_type": "markdown",
      "metadata": {
        "id": "H0sxlWIjsmEx"
      },
      "source": [
        "## Making simple predictions\n",
        "Just as a reminder, let's look at how you make a prediction for an individual user and item. First, we'll fit the SVD model we had from before."
      ]
    },
    {
      "cell_type": "code",
      "execution_count": null,
      "metadata": {
        "id": "6KDnL9zZsmEx",
        "outputId": "ef16369c-9e22-49cc-8829-496e1cbc8112"
      },
      "outputs": [
        {
          "data": {
            "text/plain": [
              "<surprise.prediction_algorithms.matrix_factorization.SVD at 0x11952ab38>"
            ]
          },
          "execution_count": 20,
          "metadata": {},
          "output_type": "execute_result"
        }
      ],
      "source": [
        "svd = SVD(n_factors= 50, reg_all=0.05)\n",
        "svd.fit(dataset)"
      ]
    },
    {
      "cell_type": "code",
      "execution_count": null,
      "metadata": {
        "id": "qfHlKk06smEx",
        "outputId": "eab13d43-2c97-497d-8b45-5f82545499e5"
      },
      "outputs": [
        {
          "data": {
            "text/plain": [
              "Prediction(uid=2, iid=4, r_ui=None, est=3.0129484092252135, details={'was_impossible': False})"
            ]
          },
          "execution_count": 21,
          "metadata": {},
          "output_type": "execute_result"
        }
      ],
      "source": [
        "svd.predict(2, 4)"
      ]
    },
    {
      "cell_type": "markdown",
      "metadata": {
        "id": "HLVX2_nosmEx"
      },
      "source": [
        "This prediction value is a tuple and each of the values within it can be accessed by way of indexing. Now let's put our knowledge of recommendation systems to do something interesting: making predictions for a new user!"
      ]
    },
    {
      "cell_type": "markdown",
      "metadata": {
        "id": "czJKBqkssmEx"
      },
      "source": [
        "## Obtaining User Ratings\n",
        "\n",
        "It's great that we have working models and everything, but wouldn't it be nice to get to recommendations specifically tailored to your preferences? That's what we'll be doing now. The first step is to create a function that allows us to pick randomly selected movies. The function should present users with a movie and ask them to rate it. If they have not seen the movie, they should be able to skip rating it.\n",
        "\n",
        "The function `movie_rater()` should take as parameters:\n",
        "\n",
        "* `movie_df`: DataFrame - a dataframe containing the movie ids, name of movie, and genres\n",
        "* `num`: int - number of ratings\n",
        "* `genre`: string - a specific genre from which to draw movies\n",
        "\n",
        "The function returns:\n",
        "* rating_list : list - a collection of dictionaries in the format of {'userId': int , 'movieId': int , 'rating': float}\n",
        "\n",
        "#### This function is optional, but fun :)"
      ]
    },
    {
      "cell_type": "code",
      "execution_count": null,
      "metadata": {
        "id": "3U5FYByXsmEy"
      },
      "outputs": [],
      "source": [
        "def movie_rater(movie_df,num, genre=None):\n",
        "    pass\n",
        ""
      ]
    },
    {
      "cell_type": "code",
      "execution_count": null,
      "metadata": {
        "scrolled": true,
        "id": "e2rNog4msmEy",
        "outputId": "fa6f97f4-2ba4-49c9-b3b5-3d6189d7824c"
      },
      "outputs": [
        {
          "name": "stdout",
          "output_type": "stream",
          "text": [
            "      movieId                   title          genres\n",
            "6579    55245  Good Luck Chuck (2007)  Comedy|Romance\n",
            "How do you rate this movie on a scale of 1-5, press n if you have not seen :\n",
            "5\n",
            "      movieId                       title          genres\n",
            "1873     2491  Simply Irresistible (1999)  Comedy|Romance\n",
            "How do you rate this movie on a scale of 1-5, press n if you have not seen :\n",
            "4\n",
            "      movieId                  title  genres\n",
            "3459     4718  American Pie 2 (2001)  Comedy\n",
            "How do you rate this movie on a scale of 1-5, press n if you have not seen :\n",
            "4\n",
            "      movieId             title                   genres\n",
            "4160     5990  Pinocchio (2002)  Children|Comedy|Fantasy\n",
            "How do you rate this movie on a scale of 1-5, press n if you have not seen :\n",
            "3\n"
          ]
        }
      ],
      "source": [
        "# try out the new function here!"
      ]
    },
    {
      "cell_type": "markdown",
      "metadata": {
        "id": "zjCCzpFDsmEy"
      },
      "source": [
        "If you're struggling to come up with the above function, you can use this list of user ratings to complete the next segment"
      ]
    },
    {
      "cell_type": "code",
      "execution_count": null,
      "metadata": {
        "id": "x_MlLAOysmEy",
        "outputId": "949a8eb7-0ddf-4867-e0b0-84e239b02137"
      },
      "outputs": [
        {
          "data": {
            "text/plain": [
              "[{'userId': 1000, 'movieId': 55245, 'rating': '5'},\n",
              " {'userId': 1000, 'movieId': 2491, 'rating': '4'},\n",
              " {'userId': 1000, 'movieId': 4718, 'rating': '4'},\n",
              " {'userId': 1000, 'movieId': 5990, 'rating': '3'}]"
            ]
          },
          "execution_count": 38,
          "metadata": {},
          "output_type": "execute_result"
        }
      ],
      "source": [
        "user_rating"
      ]
    },
    {
      "cell_type": "markdown",
      "metadata": {
        "id": "8BaAf7NqsmEy"
      },
      "source": [
        "### Making Predictions With the New Ratings\n",
        "Now that you have new ratings, you can use them to make predictions for this new user. The proper way this should work is:\n",
        "\n",
        "* add the new ratings to the original ratings DataFrame, read into a `surprise` dataset\n",
        "* train a model using the new combined DataFrame\n",
        "* make predictions for the user\n",
        "* order those predictions from highest rated to lowest rated\n",
        "* return the top n recommendations with the text of the actual movie (rather than just the index number)"
      ]
    },
    {
      "cell_type": "code",
      "execution_count": null,
      "metadata": {
        "id": "8Ss0Q8cGsmEy"
      },
      "outputs": [],
      "source": [
        "## add the new ratings to the original ratings DataFrame\n"
      ]
    },
    {
      "cell_type": "code",
      "execution_count": null,
      "metadata": {
        "id": "oB1bReqssmEy",
        "outputId": "6679170e-a55e-4a76-9d7b-0ce28a23fcaa"
      },
      "outputs": [
        {
          "data": {
            "text/plain": [
              "<surprise.prediction_algorithms.matrix_factorization.SVD at 0x11daeb898>"
            ]
          },
          "execution_count": 40,
          "metadata": {},
          "output_type": "execute_result"
        }
      ],
      "source": [
        "# train a model using the new combined DataFrame\n"
      ]
    },
    {
      "cell_type": "code",
      "execution_count": null,
      "metadata": {
        "id": "npr0nYzVsmEy"
      },
      "outputs": [],
      "source": [
        "# make predictions for the user\n",
        "# you'll probably want to create a list of tuples in the format (movie_id, predicted_score)\n"
      ]
    },
    {
      "cell_type": "code",
      "execution_count": null,
      "metadata": {
        "id": "RTvwhfHdsmEz"
      },
      "outputs": [],
      "source": [
        "# order the predictions from highest to lowest rated\n",
        "\n",
        "ranked_movies = None"
      ]
    },
    {
      "cell_type": "markdown",
      "metadata": {
        "id": "qiqPYsQHsmEz"
      },
      "source": [
        " For the final component of this challenge, it could be useful to create a function `recommended_movies()` that takes in the parameters:\n",
        "* `user_ratings`: list - list of tuples formulated as (user_id, movie_id) (should be in order of best to worst for this individual)\n",
        "* `movie_title_df`: DataFrame\n",
        "* `n`: int - number of recommended movies\n",
        "\n",
        "The function should use a `for` loop to print out each recommended *n* movies in order from best to worst"
      ]
    },
    {
      "cell_type": "code",
      "execution_count": null,
      "metadata": {
        "id": "GEC-zL2psmEz",
        "outputId": "06669abf-1da6-4480-f191-9085f300492c"
      },
      "outputs": [
        {
          "name": "stdout",
          "output_type": "stream",
          "text": [
            "Recommendation #  1 :  277    Shawshank Redemption, The (1994)\n",
            "Name: title, dtype: object \n",
            "\n",
            "Recommendation #  2 :  680    Philadelphia Story, The (1940)\n",
            "Name: title, dtype: object \n",
            "\n",
            "Recommendation #  3 :  686    Rear Window (1954)\n",
            "Name: title, dtype: object \n",
            "\n",
            "Recommendation #  4 :  602    Dr. Strangelove or: How I Learned to Stop Worr...\n",
            "Name: title, dtype: object \n",
            "\n",
            "Recommendation #  5 :  926    Amadeus (1984)\n",
            "Name: title, dtype: object \n",
            "\n"
          ]
        }
      ],
      "source": [
        "# return the top n recommendations using the\n",
        "def recommended_movies(user_ratings,movie_title_df,n):\n",
        "        pass\n",
        "\n",
        "recommended_movies(ranked_movies,df_movies,5)"
      ]
    },
    {
      "cell_type": "markdown",
      "metadata": {
        "id": "vXGmso8OsmEz"
      },
      "source": [
        "## Level Up (Optional)\n",
        "\n",
        "* Try and chain all of the steps together into one function that asks users for ratings for a certain number of movies, then all of the above steps are performed to return the top $n$ recommendations\n",
        "* Make a recommender system that only returns items that come from a specified genre"
      ]
    },
    {
      "cell_type": "markdown",
      "metadata": {
        "id": "kGnjd2rMsmEz"
      },
      "source": [
        "## Summary\n",
        "\n",
        "In this lab, you got the chance to implement a collaborative filtering model as well as retrieve recommendations from that model. You also got the opportunity to add your own recommendations to the system to get new recommendations for yourself! Next, you will learn how to use Spark to make recommender systems."
      ]
    }
  ],
  "metadata": {
    "kernelspec": {
      "display_name": "Python 3",
      "language": "python",
      "name": "python3"
    },
    "language_info": {
      "codemirror_mode": {
        "name": "ipython",
        "version": 3
      },
      "file_extension": ".py",
      "mimetype": "text/x-python",
      "name": "python",
      "nbconvert_exporter": "python",
      "pygments_lexer": "ipython3",
      "version": "3.7.3"
    },
    "toc": {
      "base_numbering": 1,
      "nav_menu": {},
      "number_sections": true,
      "sideBar": true,
      "skip_h1_title": false,
      "title_cell": "Table of Contents",
      "title_sidebar": "Contents",
      "toc_cell": false,
      "toc_position": {},
      "toc_section_display": true,
      "toc_window_display": false
    },
    "colab": {
      "provenance": []
    }
  },
  "nbformat": 4,
  "nbformat_minor": 0
}